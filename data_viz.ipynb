{
 "cells": [
  {
   "cell_type": "code",
   "execution_count": 15,
   "id": "b8f7f94d",
   "metadata": {},
   "outputs": [],
   "source": [
    "import pandas as pd\n",
    "import numpy as np"
   ]
  },
  {
   "cell_type": "code",
   "execution_count": 3,
   "id": "875f7aff",
   "metadata": {},
   "outputs": [
    {
     "name": "stdout",
     "output_type": "stream",
     "text": [
      "Defaulting to user installation because normal site-packages is not writeable\n",
      "Collecting dash\n",
      "  Downloading dash-2.17.1-py3-none-any.whl.metadata (10 kB)\n",
      "Requirement already satisfied: Flask<3.1,>=1.0.4 in c:\\programdata\\anaconda3\\lib\\site-packages (from dash) (1.1.2)\n",
      "Requirement already satisfied: Werkzeug<3.1 in c:\\programdata\\anaconda3\\lib\\site-packages (from dash) (2.0.3)\n",
      "Requirement already satisfied: plotly>=5.0.0 in c:\\programdata\\anaconda3\\lib\\site-packages (from dash) (5.9.0)\n",
      "Collecting dash-html-components==2.0.0 (from dash)\n",
      "  Downloading dash_html_components-2.0.0-py3-none-any.whl.metadata (3.8 kB)\n",
      "Collecting dash-core-components==2.0.0 (from dash)\n",
      "  Downloading dash_core_components-2.0.0-py3-none-any.whl.metadata (2.9 kB)\n",
      "Collecting dash-table==5.0.0 (from dash)\n",
      "  Downloading dash_table-5.0.0-py3-none-any.whl.metadata (2.4 kB)\n",
      "Requirement already satisfied: importlib-metadata in c:\\programdata\\anaconda3\\lib\\site-packages (from dash) (4.11.3)\n",
      "Requirement already satisfied: typing-extensions>=4.1.1 in c:\\programdata\\anaconda3\\lib\\site-packages (from dash) (4.3.0)\n",
      "Requirement already satisfied: requests in c:\\users\\santosh\\appdata\\roaming\\python\\python39\\site-packages (from dash) (2.32.3)\n",
      "Collecting retrying (from dash)\n",
      "  Downloading retrying-1.3.4-py3-none-any.whl.metadata (6.9 kB)\n",
      "Requirement already satisfied: nest-asyncio in c:\\programdata\\anaconda3\\lib\\site-packages (from dash) (1.5.5)\n",
      "Requirement already satisfied: setuptools in c:\\programdata\\anaconda3\\lib\\site-packages (from dash) (63.4.1)\n",
      "Requirement already satisfied: Jinja2>=2.10.1 in c:\\programdata\\anaconda3\\lib\\site-packages (from Flask<3.1,>=1.0.4->dash) (2.11.3)\n",
      "Requirement already satisfied: itsdangerous>=0.24 in c:\\programdata\\anaconda3\\lib\\site-packages (from Flask<3.1,>=1.0.4->dash) (2.0.1)\n",
      "Requirement already satisfied: click>=5.1 in c:\\programdata\\anaconda3\\lib\\site-packages (from Flask<3.1,>=1.0.4->dash) (8.0.4)\n",
      "Requirement already satisfied: tenacity>=6.2.0 in c:\\programdata\\anaconda3\\lib\\site-packages (from plotly>=5.0.0->dash) (8.0.1)\n",
      "Requirement already satisfied: zipp>=0.5 in c:\\programdata\\anaconda3\\lib\\site-packages (from importlib-metadata->dash) (3.8.0)\n",
      "Requirement already satisfied: charset-normalizer<4,>=2 in c:\\programdata\\anaconda3\\lib\\site-packages (from requests->dash) (2.0.4)\n",
      "Requirement already satisfied: idna<4,>=2.5 in c:\\programdata\\anaconda3\\lib\\site-packages (from requests->dash) (3.3)\n",
      "Requirement already satisfied: urllib3<3,>=1.21.1 in c:\\programdata\\anaconda3\\lib\\site-packages (from requests->dash) (1.26.11)\n",
      "Requirement already satisfied: certifi>=2017.4.17 in c:\\programdata\\anaconda3\\lib\\site-packages (from requests->dash) (2022.9.14)\n",
      "Requirement already satisfied: six>=1.7.0 in c:\\programdata\\anaconda3\\lib\\site-packages (from retrying->dash) (1.16.0)\n",
      "Requirement already satisfied: colorama in c:\\programdata\\anaconda3\\lib\\site-packages (from click>=5.1->Flask<3.1,>=1.0.4->dash) (0.4.5)\n",
      "Requirement already satisfied: MarkupSafe>=0.23 in c:\\programdata\\anaconda3\\lib\\site-packages (from Jinja2>=2.10.1->Flask<3.1,>=1.0.4->dash) (2.0.1)\n",
      "Downloading dash-2.17.1-py3-none-any.whl (7.5 MB)\n",
      "   ---------------------------------------- 7.5/7.5 MB 6.4 MB/s eta 0:00:00\n",
      "Downloading dash_core_components-2.0.0-py3-none-any.whl (3.8 kB)\n",
      "Downloading dash_html_components-2.0.0-py3-none-any.whl (4.1 kB)\n",
      "Downloading dash_table-5.0.0-py3-none-any.whl (3.9 kB)\n",
      "Downloading retrying-1.3.4-py3-none-any.whl (11 kB)\n",
      "Installing collected packages: dash-table, dash-html-components, dash-core-components, retrying, dash\n",
      "Successfully installed dash-2.17.1 dash-core-components-2.0.0 dash-html-components-2.0.0 dash-table-5.0.0 retrying-1.3.4\n",
      "Note: you may need to restart the kernel to use updated packages.\n"
     ]
    },
    {
     "name": "stderr",
     "output_type": "stream",
     "text": [
      "  WARNING: The scripts dash-generate-components.exe, dash-update-components.exe and renderer.exe are installed in 'C:\\Users\\Santosh\\AppData\\Roaming\\Python\\Python39\\Scripts' which is not on PATH.\n",
      "  Consider adding this directory to PATH or, if you prefer to suppress this warning, use --no-warn-script-location.\n"
     ]
    }
   ],
   "source": [
    "pip install dash"
   ]
  },
  {
   "cell_type": "code",
   "execution_count": 4,
   "id": "8c323678",
   "metadata": {},
   "outputs": [],
   "source": [
    "import dash\n",
    "import more_itertools\n",
    "from dash import dcc\n",
    "from dash import html\n",
    "from dash.dependencies import Input, Output\n",
    "import pandas as pd\n",
    "import plotly.graph_objs as go\n",
    "import plotly.express as px"
   ]
  },
  {
   "cell_type": "code",
   "execution_count": 16,
   "id": "93bd411b",
   "metadata": {},
   "outputs": [
    {
     "data": {
      "text/html": [
       "\n",
       "        <iframe\n",
       "            width=\"100%\"\n",
       "            height=\"650\"\n",
       "            src=\"http://127.0.0.1:8050/\"\n",
       "            frameborder=\"0\"\n",
       "            allowfullscreen\n",
       "            \n",
       "        ></iframe>\n",
       "        "
      ],
      "text/plain": [
       "<IPython.lib.display.IFrame at 0x1a992e70dc0>"
      ]
     },
     "metadata": {},
     "output_type": "display_data"
    }
   ],
   "source": [
    "import pandas as pd\n",
    "import dash\n",
    "import dash_core_components as dcc\n",
    "import dash_html_components as html\n",
    "\n",
    "# Load the data using pandas\n",
    "url = 'https://cf-courses-data.s3.us.cloud-object-storage.appdomain.cloud/IBMDeveloperSkillsNetwork-DV0101EN-SkillsNetwork/Data%20Files/historical_automobile_sales.csv'\n",
    "data = pd.read_csv(url)\n",
    "\n",
    "# Initialize the Dash app\n",
    "app = dash.Dash(__name__)\n",
    "\n",
    "# Set the title of the dashboard\n",
    "app.title = \"Automobile Statistics Dashboard\"\n",
    "\n",
    "# Your further code for layout and callbacks can follow here\n",
    "# For example:\n",
    "app.layout = html.Div([\n",
    "    html.H1(\"Automobile Statistics Dashboard\"),\n",
    "    # Add more components as needed\n",
    "])\n",
    "\n",
    "if __name__ == '__main__':\n",
    "    app.run_server(debug=True)\n"
   ]
  },
  {
   "cell_type": "code",
   "execution_count": 5,
   "id": "634adf1d",
   "metadata": {},
   "outputs": [],
   "source": [
    "# Load the data using pandas\n",
    "data = pd.read_csv('https://cf-courses-data.s3.us.cloud-object-storage.appdomain.cloud/IBMDeveloperSkillsNetwork-DV0101EN-SkillsNetwork/Data%20Files/historical_automobile_sales.csv')\n",
    "\n",
    "# Initialize the Dash app\n",
    "app = dash.Dash(__name__)\n",
    "\n",
    "# Set the title of the dashboard\n",
    "app.title = \"Automobile Statistics Dashboard\""
   ]
  },
  {
   "cell_type": "code",
   "execution_count": 17,
   "id": "11b8535d",
   "metadata": {},
   "outputs": [],
   "source": [
    "# Create the dropdown menu options\n",
    "dropdown_options = [\n",
    "    {'label': 'Yearly Statistics', 'value': 'Yearly Statistics'},\n",
    "    {'label': 'Recession Period Statistics', 'value': 'Recession Period Statistics'}\n",
    "]\n",
    "\n",
    "# List of years\n",
    "year_list = [i for i in range(1980, 2024)]\n",
    "\n",
    "#----------------------------------------------"
   ]
  },
  {
   "cell_type": "code",
   "execution_count": 18,
   "id": "385a6ce9",
   "metadata": {},
   "outputs": [
    {
     "data": {
      "text/html": [
       "\n",
       "        <iframe\n",
       "            width=\"100%\"\n",
       "            height=\"650\"\n",
       "            src=\"http://127.0.0.1:8050/\"\n",
       "            frameborder=\"0\"\n",
       "            allowfullscreen\n",
       "            \n",
       "        ></iframe>\n",
       "        "
      ],
      "text/plain": [
       "<IPython.lib.display.IFrame at 0x1a99b26cb80>"
      ]
     },
     "metadata": {},
     "output_type": "display_data"
    }
   ],
   "source": [
    "app.layout = html.Div([\n",
    "    #TASK 2.1 Add title to the dashboard\n",
    "    html.H1(\"Automobile Statistics Dashboard\", style={'textAlign': 'center'}),#Include style for title\n",
    "html.Div([\n",
    "        html.Label(\"Select Statistics:\"),\n",
    "        dcc.Dropdown(\n",
    "            id='id1',\n",
    "            options=[\n",
    "                {'label': 'Option One', 'value': 'one'},\n",
    "                {'label': 'Option Two', 'value': 'two'},\n",
    "                {'label': 'Option Three', 'value': 'three'},\n",
    "                {'label': 'Option Four', 'value': 'four'}\n",
    "            ],\n",
    "            value='two',  # Default value set to 'two'\n",
    "            placeholder='Select an option'  # Placeholder text\n",
    "        )\n",
    "    ], style={'width': '50%', 'margin': 'auto', 'textAlign': 'center'}),  # Added style to center align dropdowns\n",
    "    \n",
    "    html.Div([\n",
    "        dcc.Dropdown(\n",
    "            id='select-year',\n",
    "            options=[{'label': str(year), 'value': year} for year in year_list],\n",
    "            value=year_list[0],  # Default value set to the first year in year_list\n",
    "            placeholder='Select a year'\n",
    "        )\n",
    "    ], style={'width': '50%', 'margin': 'auto', 'textAlign': 'center'}),  # Added style to center align dropdowns\n",
    "    \n",
    "    # TASK 2.3: Add a division for output display\n",
    "    html.Div([\n",
    "        html.Div(id='output-div', className='hi', style={'textAlign': 'center', 'padding': '20px'})\n",
    "    ])\n",
    "])\n",
    "\n",
    "# Run the Dash app\n",
    "if __name__ == '__main__':\n",
    "    app.run_server(debug=True)"
   ]
  },
  {
   "cell_type": "code",
   "execution_count": 19,
   "id": "90fda146",
   "metadata": {},
   "outputs": [
    {
     "data": {
      "text/html": [
       "\n",
       "        <iframe\n",
       "            width=\"100%\"\n",
       "            height=\"650\"\n",
       "            src=\"http://127.0.0.1:8050/\"\n",
       "            frameborder=\"0\"\n",
       "            allowfullscreen\n",
       "            \n",
       "        ></iframe>\n",
       "        "
      ],
      "text/plain": [
       "<IPython.lib.display.IFrame at 0x1a99b26c6d0>"
      ]
     },
     "metadata": {},
     "output_type": "display_data"
    }
   ],
   "source": [
    "import dash\n",
    "from dash import dcc, html, Input, Output\n",
    "import pandas as pd\n",
    "\n",
    "# Assuming data is loaded into 'data' DataFrame\n",
    "data = pd.DataFrame({\n",
    "    'Year': [2010, 2011, 2012, 2013, 2014],\n",
    "    'Automobile_Sales': [500, 600, 700, 800, 900],\n",
    "    'Advertising_Expenditure': [1000, 1200, 800, 900, 1100]\n",
    "})\n",
    "\n",
    "# Initialize the Dash app\n",
    "app = dash.Dash(__name__)\n",
    "\n",
    "# Create the dropdown menu options\n",
    "dropdown_options = [\n",
    "    {'label': 'Yearly Statistics', 'value': 'Yearly Statistics'},\n",
    "    {'label': 'Recession Period Statistics', 'value': 'Recession Period Statistics'}\n",
    "]\n",
    "\n",
    "# List of years\n",
    "year_list = [str(year) for year in range(2010, 2015)]\n",
    "\n",
    "# Define the layout of the Dash app\n",
    "app.layout = html.Div([\n",
    "    html.H1(\"Dashboard\"),\n",
    "    \n",
    "    # Dropdown menu for selecting statistics\n",
    "    html.Label(\"Select Statistics:\"),\n",
    "    dcc.Dropdown(\n",
    "        id='dropdown-stats',\n",
    "        options=dropdown_options,\n",
    "        value='Yearly Statistics',  # Default value\n",
    "        clearable=False  # Prevents clearing the dropdown\n",
    "    ),\n",
    "    \n",
    "    # Output container for displaying results\n",
    "    html.Div(id='output-container')\n",
    "])\n",
    "\n",
    "# Define callback to update output based on selected statistics\n",
    "@app.callback(\n",
    "    Output('output-container', 'children'),\n",
    "    Input('dropdown-stats', 'value')\n",
    ")\n",
    "def update_output(selected_stats):\n",
    "    if selected_stats == 'Yearly Statistics':\n",
    "        # Display yearly statistics (example: line chart of automobile sales)\n",
    "        return dcc.Graph(\n",
    "            figure={\n",
    "                'data': [\n",
    "                    {'x': data['Year'], 'y': data['Automobile_Sales'], 'type': 'line', 'name': 'Automobile Sales'},\n",
    "                ],\n",
    "                'layout': {\n",
    "                    'title': 'Yearly Automobile Sales',\n",
    "                    'xaxis': {'title': 'Year'},\n",
    "                    'yaxis': {'title': 'Sales'}\n",
    "                }\n",
    "            }\n",
    "        )\n",
    "    elif selected_stats == 'Recession Period Statistics':\n",
    "        # Display recession period statistics (example: bar chart of advertising expenditure)\n",
    "        return dcc.Graph(\n",
    "            figure={\n",
    "                'data': [\n",
    "                    {'x': data['Year'], 'y': data['Advertising_Expenditure'], 'type': 'bar', 'name': 'Advertising Expenditure'},\n",
    "                ],\n",
    "                'layout': {\n",
    "                    'title': 'Advertising Expenditure During Recession Periods',\n",
    "                    'xaxis': {'title': 'Year'},\n",
    "                    'yaxis': {'title': 'Expenditure'}\n",
    "                }\n",
    "            }\n",
    "        )\n",
    "    else:\n",
    "        return \"No data available\"\n",
    "\n",
    "# Run the Dash app\n",
    "if __name__ == '__main__':\n",
    "    app.run_server(debug=True)\n"
   ]
  },
  {
   "cell_type": "code",
   "execution_count": 13,
   "id": "65b2439b",
   "metadata": {
    "scrolled": false
   },
   "outputs": [
    {
     "data": {
      "text/html": [
       "\n",
       "        <iframe\n",
       "            width=\"100%\"\n",
       "            height=\"650\"\n",
       "            src=\"http://127.0.0.1:8050/\"\n",
       "            frameborder=\"0\"\n",
       "            allowfullscreen\n",
       "            \n",
       "        ></iframe>\n",
       "        "
      ],
      "text/plain": [
       "<IPython.lib.display.IFrame at 0x1a99b132fd0>"
      ]
     },
     "metadata": {},
     "output_type": "display_data"
    }
   ],
   "source": [
    "import dash\n",
    "import dash_core_components as dcc\n",
    "import dash_html_components as html\n",
    "import plotly.express as px\n",
    "import pandas as pd\n",
    "\n",
    "# Sample data for demonstration purposes\n",
    "recession_data = pd.DataFrame({\n",
    "    'Year': [2010, 2010, 2011, 2011, 2012, 2012],\n",
    "    'Automobile_Sales': [500, 600, 700, 800, 900, 1000],\n",
    "    'Vehicle_Type': ['SUV', 'Sedan', 'SUV', 'Truck', 'Sedan', 'Truck'],\n",
    "    'Advertising_Expenditure': [1000, 1200, 800, 900, 1100, 1300],\n",
    "    'Unemployment_Rate': [5.1, 5.0, 4.8, 4.7, 4.5, 4.4]\n",
    "})\n",
    "\n",
    "# Initialize the Dash app\n",
    "app = dash.Dash(__name__)\n",
    "\n",
    "# Define the layout of the Dash app\n",
    "app.layout = html.Div([\n",
    "    # TASK 2.5: Create and display graphs for Recession Report Statistics\n",
    "    \n",
    "    # Plot 1: Automobile sales fluctuate over Recession Period (year wise)\n",
    "    html.Div(className='chart-item', children=[\n",
    "        dcc.Graph(\n",
    "            figure=px.line(\n",
    "                recession_data.groupby('Year')['Automobile_Sales'].mean().reset_index(),\n",
    "                x='Year',\n",
    "                y='Automobile_Sales',\n",
    "                title=\"Average Automobile Sales fluctuation over Recession Period\"\n",
    "            )\n",
    "        )\n",
    "    ], style={'display': 'flex'}),\n",
    "    \n",
    "    # Plot 2: Calculate the average number of vehicles sold by vehicle type\n",
    "    html.Div(className='chart-item', children=[\n",
    "        dcc.Graph(\n",
    "            figure=px.bar(\n",
    "                recession_data.groupby('Vehicle_Type')['Automobile_Sales'].mean().reset_index(),\n",
    "                x='Vehicle_Type',\n",
    "                y='Automobile_Sales',\n",
    "                title=\"Average Automobile Sales by Vehicle Type\"\n",
    "            )\n",
    "        )\n",
    "    ], style={'display': 'flex'}),\n",
    "    \n",
    "    # Plot 3: Pie chart for total expenditure share by vehicle type during recessions\n",
    "    html.Div(className='chart-item', children=[\n",
    "        dcc.Graph(\n",
    "            figure=px.pie(\n",
    "                recession_data,\n",
    "                values='Advertising_Expenditure',\n",
    "                names='Vehicle_Type',\n",
    "                title='Total Expenditure Share by Vehicle Type during Recessions'\n",
    "            )\n",
    "        )\n",
    "    ], style={'display': 'flex'}),\n",
    "    \n",
    "    # Plot 4: Bar chart for the effect of unemployment rate on vehicle type and sales\n",
    "    html.Div(className='chart-item', children=[\n",
    "        dcc.Graph(\n",
    "            figure=px.bar(\n",
    "                recession_data,\n",
    "                x='Vehicle_Type',\n",
    "                y='Automobile_Sales',\n",
    "                color='Unemployment_Rate',\n",
    "                labels={'Unemployment_Rate': 'Unemployment Rate', 'Automobile_Sales': 'Average Automobile Sales'},\n",
    "                title='Effect of Unemployment Rate on Vehicle Type and Sales'\n",
    "            )\n",
    "        )\n",
    "    ], style={'display': 'flex'})\n",
    "])\n",
    "\n",
    "# Run the Dash app\n",
    "if __name__ == '__main__':\n",
    "    app.run_server(debug=True)\n"
   ]
  }
 ],
 "metadata": {
  "kernelspec": {
   "display_name": "Python 3 (ipykernel)",
   "language": "python",
   "name": "python3"
  },
  "language_info": {
   "codemirror_mode": {
    "name": "ipython",
    "version": 3
   },
   "file_extension": ".py",
   "mimetype": "text/x-python",
   "name": "python",
   "nbconvert_exporter": "python",
   "pygments_lexer": "ipython3",
   "version": "3.9.13"
  }
 },
 "nbformat": 4,
 "nbformat_minor": 5
}
